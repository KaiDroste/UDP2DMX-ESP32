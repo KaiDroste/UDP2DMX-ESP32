{
 "cells": [
  {
   "cell_type": "code",
   "execution_count": 106,
   "id": "650a61ec",
   "metadata": {},
   "outputs": [
    {
     "name": "stdout",
     "output_type": "stream",
     "text": [
      "DMX-Daten gesendet\n"
     ]
    }
   ],
   "source": [
    "import socket\n",
    "\n",
    "UDP_IP = \"192.168.178.55\"  # IP-Adresse deines ESP32\n",
    "UDP_PORT = 6454\n",
    "\n",
    "# # Erzeuge 513 Byte: 1 Startcode (0) + 512 Kanalwerte (z. B. alle auf 255)\n",
    "# # dmx_data = bytes([0] + [255] * 512)\n",
    "# dmx_data = bytes([0, 5] + [0]*511)  # Kanal 1 = 128\n",
    "\n",
    "# # sock.sendto(b'1:128,2:64,3:255', (ESP32_IP, UDP_PORT))\n",
    "# sock = socket.socket(socket.AF_INET, socket.SOCK_DGRAM)\n",
    "# sock.sendto(dmx_data, (UDP_IP, UDP_PORT))\n",
    "\n",
    "\n",
    "\n",
    "dmx_data = bytearray(513)\n",
    "dmx_data[1] = 0  # Setzt Kanal 3 auf Wert 5\n",
    "\n",
    "sock = socket.socket(socket.AF_INET, socket.SOCK_DGRAM)\n",
    "sock.sendto(dmx_data, (\"192.168.178.55\", 6454))\n",
    "print(\"DMX-Daten gesendet\")\n"
   ]
  },
  {
   "cell_type": "code",
   "execution_count": null,
   "id": "1dabf6be",
   "metadata": {},
   "outputs": [],
   "source": [
    "#kanal 1 auf 128 setzen\n",
    "\n",
    "dmx_data = bytes([0, 128] + [0]*511)  # Kanal 1 = 128"
   ]
  },
  {
   "cell_type": "code",
   "execution_count": 29,
   "id": "3b702b57",
   "metadata": {},
   "outputs": [
    {
     "name": "stdout",
     "output_type": "stream",
     "text": [
      "Gesendet: DMXP1#0#2\n"
     ]
    }
   ],
   "source": [
    "import socket\n",
    "\n",
    "UDP_IP = \"192.168.178.55\"  # IP-Adresse deines ESP32\n",
    "UDP_PORT = 6454\n",
    "\n",
    "def send_dmx_command(command: str):\n",
    "    sock = socket.socket(socket.AF_INET, socket.SOCK_DGRAM)\n",
    "    sock.sendto(command.encode(), (UDP_IP, UDP_PORT))\n",
    "    print(f\"Gesendet: {command}\")\n",
    "\n",
    "# Beispiele für Kommandos:\n",
    "\n",
    "# # Direktwert 129 auf Kanal 2\n",
    "send_dmx_command(\"DMXP1#0#2\")\n",
    "# send_dmx_command(\"DMXP4#0#1\")\n",
    "# send_dmx_command(\"DMXP5#0#90\")\n",
    "\n",
    "# Prozentwert 55% auf Kanal 3, Geschwindigkeit 1\n",
    "# send_dmx_command(\"DMXP4#55#1\")\n",
    "\n",
    "# # Prozentwert 56% auf Kanal 3, Geschwindigkeit 2\n",
    "# send_dmx_command(\"DMXP3#56#2#2\")\n",
    "\n",
    "# # RGB-Wert: R=12, G=66, B=3 -> R + G*1000 + B*1000000\n",
    "rgb_value = 20 + 10*1000 + 5*1000000  # = 3066012\n",
    "# send_dmx_command(f\"DMXR10#{rgb_value}#30\")\n",
    "# send_dmx_command(f\"DMXR10#{rgb_value}#1#1\")\n",
    "\n",
    "# # Tunable White (Typ V): 70% auf Kanal 5 (WW@5, CW@6)\n",
    "# send_dmx_command(\"DMXV5#70\")\n",
    "\n",
    "# # Tunable White (Typ W): 70% auf Kanal 7 (CW@7, WW@8)\n",
    "# send_dmx_command(\"DMXW10#000000#30\")\n",
    "\n",
    "# # Du kannst auch eine Liste von Kommandos senden:\n",
    "# commands = [\n",
    "#     \"DMXC1#255\",   # Kanal 1 auf 255 setzen\n",
    "#     \"DMXP2#50\",    # Kanal 2 auf 50%\n",
    "#     \"DMXR10#3066012\",  # RGB auf Kanal 10\n",
    "# ]\n",
    "\n",
    "# for cmd in commands:\n",
    "#     send_dmx_command(cmd)\n"
   ]
  }
 ],
 "metadata": {
  "kernelspec": {
   "display_name": "Python 3",
   "language": "python",
   "name": "python3"
  },
  "language_info": {
   "codemirror_mode": {
    "name": "ipython",
    "version": 3
   },
   "file_extension": ".py",
   "mimetype": "text/x-python",
   "name": "python",
   "nbconvert_exporter": "python",
   "pygments_lexer": "ipython3",
   "version": "3.10.4"
  }
 },
 "nbformat": 4,
 "nbformat_minor": 5
}
