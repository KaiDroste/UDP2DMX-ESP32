{
 "cells": [
  {
   "cell_type": "code",
   "execution_count": 5,
   "id": "650a61ec",
   "metadata": {},
   "outputs": [
    {
     "name": "stdout",
     "output_type": "stream",
     "text": [
      "DMX-Daten gesendet\n"
     ]
    }
   ],
   "source": [
    "import socket\n",
    "\n",
    "UDP_IP = \"udp2dmx\"  # IP-Adresse deines ESP32\n",
    "# UDP_IP = \"192.168.178.55\"  # IP-Adresse deines ESP32\n",
    "UDP_PORT = 6454\n",
    "\n",
    "# # Erzeuge 513 Byte: 1 Startcode (0) + 512 Kanalwerte (z. B. alle auf 255)\n",
    "# # dmx_data = bytes([0] + [255] * 512)\n",
    "# dmx_data = bytes([0, 5] + [0]*511)  # Kanal 1 = 128\n",
    "\n",
    "# # sock.sendto(b'1:128,2:64,3:255', (ESP32_IP, UDP_PORT))\n",
    "# sock = socket.socket(socket.AF_INET, socket.SOCK_DGRAM)\n",
    "# sock.sendto(dmx_data, (UDP_IP, UDP_PORT))\n",
    "\n",
    "\n",
    "\n",
    "dmx_data = bytearray(513)\n",
    "dmx_data[10] = 5  # Setzt Kanal 3 auf Wert 5\n",
    "\n",
    "sock = socket.socket(socket.AF_INET, socket.SOCK_DGRAM)\n",
    "sock.sendto(dmx_data, (\"192.168.178.55\", 6454))\n",
    "print(\"DMX-Daten gesendet\")\n"
   ]
  },
  {
   "cell_type": "code",
   "execution_count": null,
   "id": "1dabf6be",
   "metadata": {},
   "outputs": [],
   "source": [
    "#kanal 1 auf 128 setzen\n",
    "\n",
    "dmx_data = bytes([0, 128] + [0]*511)  # Kanal 1 = 128"
   ]
  },
  {
   "cell_type": "code",
   "execution_count": 57,
   "id": "3b702b57",
   "metadata": {},
   "outputs": [
    {
     "name": "stdout",
     "output_type": "stream",
     "text": [
      "Gesendet: DMXR1#20005080#2\n",
      "Gesendet: DMXW7#000128#3\n"
     ]
    }
   ],
   "source": [
    "import socket\n",
    "\n",
    "UDP_IP = \"udp2dmx\"  # IP-Adresse deines ESP32\n",
    "UDP_PORT = 6454\n",
    "\n",
    "def send_dmx_command(command: str):\n",
    "    sock = socket.socket(socket.AF_INET, socket.SOCK_DGRAM)\n",
    "    sock.sendto(command.encode(), (UDP_IP, UDP_PORT))\n",
    "    print(f\"Gesendet: {command}\")\n",
    "\n",
    "# Beispiele für Kommandos:\n",
    "\n",
    "# # Direktwert 129 auf Kanal 2\n",
    "# send_dmx_command(\"DMXP5#0#2\")\n",
    "# send_dmx_command(\"DMXC9#150#2\")\n",
    "# send_dmx_command(\"DMXP9#0\")\n",
    "\n",
    "# Prozentwert 55% auf Kanal 3, Geschwindigkeit 1\n",
    "# send_dmx_command(\"DMXP4#55#1\")\n",
    "\n",
    "# # Prozentwert 56% auf Kanal 3, Geschwindigkeit 2\n",
    "# send_dmx_command(\"DMXP3#56#2#2\")\n",
    "\n",
    "# # RGB-Wert: R=12, G=66, B=3 -> R + G*1000 + B*1000000\n",
    "rgb_value = 80 + 5*1000 + 20*1000000  # = 3066012\n",
    "send_dmx_command(f\"DMXR1#{rgb_value}#2\")\n",
    "# send_dmx_command(f\"DMXR10#{rgb_value}#2\")\n",
    "# send_dmx_command(f\"DMXR10#{rgb_value}#1#1\")\n",
    "\n",
    "# # Tunable White (Typ V): 70% auf Kanal 5 (WW@5, CW@6)\n",
    "# send_dmx_command(\"DMXV5#70\")\n",
    "\n",
    "# # Tunable White (Typ W): 70% auf Kanal 7 (CW@7, WW@8)\n",
    "send_dmx_command(\"DMXW7#000128#3\")\n",
    "\n",
    "# # Du kannst auch eine Liste von Kommandos senden:\n",
    "# commands = [\n",
    "#     \"DMXC1#255\",   # Kanal 1 auf 255 setzen\n",
    "#     \"DMXP2#50\",    # Kanal 2 auf 50%\n",
    "#     \"DMXR10#3066012\",  # RGB auf Kanal 10\n",
    "# ]\n",
    "\n",
    "# for cmd in commands:\n",
    "#     send_dmx_command(cmd)\n"
   ]
  },
  {
   "cell_type": "code",
   "execution_count": 45,
   "id": "bb25ace8",
   "metadata": {},
   "outputs": [
    {
     "name": "stdout",
     "output_type": "stream",
     "text": [
      "Gesendet: DMXP3#20\n"
     ]
    }
   ],
   "source": [
    "send_dmx_command(\"DMXP3#20\")"
   ]
  },
  {
   "cell_type": "code",
   "execution_count": 44,
   "id": "0b2530cd",
   "metadata": {},
   "outputs": [
    {
     "name": "stdout",
     "output_type": "stream",
     "text": [
      "PATCH MinMax: 200 OK\n"
     ]
    }
   ],
   "source": [
    "#Rest API Python Beispiel\n",
    "import requests\n",
    "import json\n",
    "\n",
    "ESP32_IP = \"udp2dmx\"  # <– hier deine ESP32-IP eintragen\n",
    "\n",
    "# # Einzelwert ändern (PATCH):\n",
    "# patch_data = {\n",
    "#     \"ct_config\": {\n",
    "#         \"13\": 2400,\n",
    "#         \"14\": 6500\n",
    "#     }\n",
    "# }\n",
    "# response = requests.post(f\"http://{ESP32_IP}/config/patch\", json=patch_data)\n",
    "# print(\"PATCH Einzelwert:\", response.status_code, response.text)\n",
    "\n",
    "# # MinMax-Werte ändern (PATCH):\n",
    "# patch_minmax = {\n",
    "#     \"default_ct\": {\n",
    "#         \"min\": 3000\n",
    "#     }\n",
    "# }\n",
    "# response = requests.post(f\"http://{ESP32_IP}/config/patch\", json=patch_minmax)\n",
    "# print(\"PATCH MinMax:\", response.status_code, response.text)\n",
    "\n",
    "\n",
    "# #Beispiel längere Json Datei\n",
    "patch_minmax = {\n",
    "    \"ct_config\": {\n",
    "        \"1\": 2500,\n",
    "        \"2\": 6800,\n",
    "        \"5\": 3900\n",
    "    },\n",
    "    \"default_ct\": {\n",
    "        \"min\": 3400,\n",
    "        \"max\": 6600\n",
    "    }\n",
    "}\n",
    "patch_minmax = {\n",
    "\"hostname\": \"udp2dmx\"\n",
    "    }\n",
    "\n",
    "\n",
    "response = requests.post(f\"http://{ESP32_IP}/config/patch\", json=patch_minmax)\n",
    "print(\"PATCH MinMax:\", response.status_code, response.text)\n",
    "\n",
    "\n",
    "\n",
    "# # Ganze Datei lesen (GET):\n",
    "# response = requests.get(f\"http://{ESP32_IP}/config\")\n",
    "# print(\"GET Config:\", response.status_code)\n",
    "# print(response.json())\n",
    "\n",
    "# # Ganze Datei ersetzen (POST):\n",
    "# with open(\"main\\components\\spiffs_image\\spiffs\\config.json\", \"r\") as f:\n",
    "#     config_data = json.load(f)\n",
    "\n",
    "# response = requests.post(f\"http://{ESP32_IP}/config\", json=config_data)\n",
    "# print(\"POST Full Config:\", response.status_code, response.text)\n"
   ]
  },
  {
   "cell_type": "code",
   "execution_count": 11,
   "id": "b44b22a3",
   "metadata": {},
   "outputs": [
    {
     "ename": "SyntaxError",
     "evalue": "invalid syntax (2666489373.py, line 4)",
     "output_type": "error",
     "traceback": [
      "\u001b[1;36m  Input \u001b[1;32mIn [11]\u001b[1;36m\u001b[0m\n\u001b[1;33m    curl -X POST http://<ESP32-IP>/config/patch \\\u001b[0m\n\u001b[1;37m            ^\u001b[0m\n\u001b[1;31mSyntaxError\u001b[0m\u001b[1;31m:\u001b[0m invalid syntax\n"
     ]
    }
   ],
   "source": [
    "#Beispielaufrufe für die REEST API:\n",
    "\n",
    "# Einzelwert ändern:\n",
    "curl -X POST http://<ESP32-IP>/config/patch \\\n",
    "     -H \"Content-Type: application/json\" \\\n",
    "     -d '{\"ct_config\": {\"10\": 5100}}'\n",
    "\n",
    "# MinMax Werte ändern\n",
    "curl -X POST http://<ESP32-IP>/config/patch \\\n",
    "     -H \"Content-Type: application/json\" \\\n",
    "     -d '{\"default_ct\": {\"min\": 3000}}'\n",
    "\n",
    "# Ganze Datei lesen:\n",
    "curl http://<ESP32-IP>/config\n",
    "\n",
    "#Ganze Datei ersetzen/schreiben:\n",
    "curl -X POST http://<ESP32-IP>/config \\\n",
    "     -H \"Content-Type: application/json\" \\\n",
    "     -d @ct_config.json"
   ]
  }
 ],
 "metadata": {
  "kernelspec": {
   "display_name": "Python 3",
   "language": "python",
   "name": "python3"
  },
  "language_info": {
   "codemirror_mode": {
    "name": "ipython",
    "version": 3
   },
   "file_extension": ".py",
   "mimetype": "text/x-python",
   "name": "python",
   "nbconvert_exporter": "python",
   "pygments_lexer": "ipython3",
   "version": "3.10.4"
  }
 },
 "nbformat": 4,
 "nbformat_minor": 5
}
